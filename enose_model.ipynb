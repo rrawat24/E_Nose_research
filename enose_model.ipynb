{
 "cells": [
  {
   "cell_type": "code",
   "execution_count": 2,
   "id": "3f8fea9c-4e40-40bd-a529-1e2c8c34ebfd",
   "metadata": {},
   "outputs": [],
   "source": [
    "#installing dependencies\n",
    "import pandas as pd\n",
    "import seaborn as sns\n",
    "import numpy as np"
   ]
  },
  {
   "cell_type": "code",
   "execution_count": 3,
   "id": "fcaff64a-1c7f-4764-a8d7-be21717679a9",
   "metadata": {},
   "outputs": [
    {
     "ename": "FileNotFoundError",
     "evalue": "[Errno 2] No such file or directory: 'C:/Users/rahul/OneDrive/Desktop/Masters/2nd Sem/Elctronic nose research/DATALOG_with_Cleaning.csv'",
     "output_type": "error",
     "traceback": [
      "\u001b[1;31m---------------------------------------------------------------------------\u001b[0m",
      "\u001b[1;31mFileNotFoundError\u001b[0m                         Traceback (most recent call last)",
      "\u001b[1;32m~\\AppData\\Local\\Temp\\ipykernel_31436\\1842215206.py\u001b[0m in \u001b[0;36m<module>\u001b[1;34m\u001b[0m\n\u001b[1;32m----> 1\u001b[1;33m \u001b[0men_data\u001b[0m \u001b[1;33m=\u001b[0m \u001b[0mpd\u001b[0m\u001b[1;33m.\u001b[0m\u001b[0mread_csv\u001b[0m\u001b[1;33m(\u001b[0m\u001b[1;34m\"C:/Users/rahul/OneDrive/Desktop/Masters/2nd Sem/Elctronic nose research/DATALOG_with_Cleaning.csv\"\u001b[0m\u001b[1;33m)\u001b[0m\u001b[1;33m\u001b[0m\u001b[1;33m\u001b[0m\u001b[0m\n\u001b[0m",
      "\u001b[1;32m~\\anaconda3\\lib\\site-packages\\pandas\\util\\_decorators.py\u001b[0m in \u001b[0;36mwrapper\u001b[1;34m(*args, **kwargs)\u001b[0m\n\u001b[0;32m    309\u001b[0m                     \u001b[0mstacklevel\u001b[0m\u001b[1;33m=\u001b[0m\u001b[0mstacklevel\u001b[0m\u001b[1;33m,\u001b[0m\u001b[1;33m\u001b[0m\u001b[1;33m\u001b[0m\u001b[0m\n\u001b[0;32m    310\u001b[0m                 )\n\u001b[1;32m--> 311\u001b[1;33m             \u001b[1;32mreturn\u001b[0m \u001b[0mfunc\u001b[0m\u001b[1;33m(\u001b[0m\u001b[1;33m*\u001b[0m\u001b[0margs\u001b[0m\u001b[1;33m,\u001b[0m \u001b[1;33m**\u001b[0m\u001b[0mkwargs\u001b[0m\u001b[1;33m)\u001b[0m\u001b[1;33m\u001b[0m\u001b[1;33m\u001b[0m\u001b[0m\n\u001b[0m\u001b[0;32m    312\u001b[0m \u001b[1;33m\u001b[0m\u001b[0m\n\u001b[0;32m    313\u001b[0m         \u001b[1;32mreturn\u001b[0m \u001b[0mwrapper\u001b[0m\u001b[1;33m\u001b[0m\u001b[1;33m\u001b[0m\u001b[0m\n",
      "\u001b[1;32m~\\anaconda3\\lib\\site-packages\\pandas\\io\\parsers\\readers.py\u001b[0m in \u001b[0;36mread_csv\u001b[1;34m(filepath_or_buffer, sep, delimiter, header, names, index_col, usecols, squeeze, prefix, mangle_dupe_cols, dtype, engine, converters, true_values, false_values, skipinitialspace, skiprows, skipfooter, nrows, na_values, keep_default_na, na_filter, verbose, skip_blank_lines, parse_dates, infer_datetime_format, keep_date_col, date_parser, dayfirst, cache_dates, iterator, chunksize, compression, thousands, decimal, lineterminator, quotechar, quoting, doublequote, escapechar, comment, encoding, encoding_errors, dialect, error_bad_lines, warn_bad_lines, on_bad_lines, delim_whitespace, low_memory, memory_map, float_precision, storage_options)\u001b[0m\n\u001b[0;32m    676\u001b[0m     \u001b[0mkwds\u001b[0m\u001b[1;33m.\u001b[0m\u001b[0mupdate\u001b[0m\u001b[1;33m(\u001b[0m\u001b[0mkwds_defaults\u001b[0m\u001b[1;33m)\u001b[0m\u001b[1;33m\u001b[0m\u001b[1;33m\u001b[0m\u001b[0m\n\u001b[0;32m    677\u001b[0m \u001b[1;33m\u001b[0m\u001b[0m\n\u001b[1;32m--> 678\u001b[1;33m     \u001b[1;32mreturn\u001b[0m \u001b[0m_read\u001b[0m\u001b[1;33m(\u001b[0m\u001b[0mfilepath_or_buffer\u001b[0m\u001b[1;33m,\u001b[0m \u001b[0mkwds\u001b[0m\u001b[1;33m)\u001b[0m\u001b[1;33m\u001b[0m\u001b[1;33m\u001b[0m\u001b[0m\n\u001b[0m\u001b[0;32m    679\u001b[0m \u001b[1;33m\u001b[0m\u001b[0m\n\u001b[0;32m    680\u001b[0m \u001b[1;33m\u001b[0m\u001b[0m\n",
      "\u001b[1;32m~\\anaconda3\\lib\\site-packages\\pandas\\io\\parsers\\readers.py\u001b[0m in \u001b[0;36m_read\u001b[1;34m(filepath_or_buffer, kwds)\u001b[0m\n\u001b[0;32m    573\u001b[0m \u001b[1;33m\u001b[0m\u001b[0m\n\u001b[0;32m    574\u001b[0m     \u001b[1;31m# Create the parser.\u001b[0m\u001b[1;33m\u001b[0m\u001b[1;33m\u001b[0m\u001b[0m\n\u001b[1;32m--> 575\u001b[1;33m     \u001b[0mparser\u001b[0m \u001b[1;33m=\u001b[0m \u001b[0mTextFileReader\u001b[0m\u001b[1;33m(\u001b[0m\u001b[0mfilepath_or_buffer\u001b[0m\u001b[1;33m,\u001b[0m \u001b[1;33m**\u001b[0m\u001b[0mkwds\u001b[0m\u001b[1;33m)\u001b[0m\u001b[1;33m\u001b[0m\u001b[1;33m\u001b[0m\u001b[0m\n\u001b[0m\u001b[0;32m    576\u001b[0m \u001b[1;33m\u001b[0m\u001b[0m\n\u001b[0;32m    577\u001b[0m     \u001b[1;32mif\u001b[0m \u001b[0mchunksize\u001b[0m \u001b[1;32mor\u001b[0m \u001b[0miterator\u001b[0m\u001b[1;33m:\u001b[0m\u001b[1;33m\u001b[0m\u001b[1;33m\u001b[0m\u001b[0m\n",
      "\u001b[1;32m~\\anaconda3\\lib\\site-packages\\pandas\\io\\parsers\\readers.py\u001b[0m in \u001b[0;36m__init__\u001b[1;34m(self, f, engine, **kwds)\u001b[0m\n\u001b[0;32m    930\u001b[0m \u001b[1;33m\u001b[0m\u001b[0m\n\u001b[0;32m    931\u001b[0m         \u001b[0mself\u001b[0m\u001b[1;33m.\u001b[0m\u001b[0mhandles\u001b[0m\u001b[1;33m:\u001b[0m \u001b[0mIOHandles\u001b[0m \u001b[1;33m|\u001b[0m \u001b[1;32mNone\u001b[0m \u001b[1;33m=\u001b[0m \u001b[1;32mNone\u001b[0m\u001b[1;33m\u001b[0m\u001b[1;33m\u001b[0m\u001b[0m\n\u001b[1;32m--> 932\u001b[1;33m         \u001b[0mself\u001b[0m\u001b[1;33m.\u001b[0m\u001b[0m_engine\u001b[0m \u001b[1;33m=\u001b[0m \u001b[0mself\u001b[0m\u001b[1;33m.\u001b[0m\u001b[0m_make_engine\u001b[0m\u001b[1;33m(\u001b[0m\u001b[0mf\u001b[0m\u001b[1;33m,\u001b[0m \u001b[0mself\u001b[0m\u001b[1;33m.\u001b[0m\u001b[0mengine\u001b[0m\u001b[1;33m)\u001b[0m\u001b[1;33m\u001b[0m\u001b[1;33m\u001b[0m\u001b[0m\n\u001b[0m\u001b[0;32m    933\u001b[0m \u001b[1;33m\u001b[0m\u001b[0m\n\u001b[0;32m    934\u001b[0m     \u001b[1;32mdef\u001b[0m \u001b[0mclose\u001b[0m\u001b[1;33m(\u001b[0m\u001b[0mself\u001b[0m\u001b[1;33m)\u001b[0m\u001b[1;33m:\u001b[0m\u001b[1;33m\u001b[0m\u001b[1;33m\u001b[0m\u001b[0m\n",
      "\u001b[1;32m~\\anaconda3\\lib\\site-packages\\pandas\\io\\parsers\\readers.py\u001b[0m in \u001b[0;36m_make_engine\u001b[1;34m(self, f, engine)\u001b[0m\n\u001b[0;32m   1214\u001b[0m             \u001b[1;31m# \"Union[str, PathLike[str], ReadCsvBuffer[bytes], ReadCsvBuffer[str]]\"\u001b[0m\u001b[1;33m\u001b[0m\u001b[1;33m\u001b[0m\u001b[0m\n\u001b[0;32m   1215\u001b[0m             \u001b[1;31m# , \"str\", \"bool\", \"Any\", \"Any\", \"Any\", \"Any\", \"Any\"\u001b[0m\u001b[1;33m\u001b[0m\u001b[1;33m\u001b[0m\u001b[0m\n\u001b[1;32m-> 1216\u001b[1;33m             self.handles = get_handle(  # type: ignore[call-overload]\n\u001b[0m\u001b[0;32m   1217\u001b[0m                 \u001b[0mf\u001b[0m\u001b[1;33m,\u001b[0m\u001b[1;33m\u001b[0m\u001b[1;33m\u001b[0m\u001b[0m\n\u001b[0;32m   1218\u001b[0m                 \u001b[0mmode\u001b[0m\u001b[1;33m,\u001b[0m\u001b[1;33m\u001b[0m\u001b[1;33m\u001b[0m\u001b[0m\n",
      "\u001b[1;32m~\\anaconda3\\lib\\site-packages\\pandas\\io\\common.py\u001b[0m in \u001b[0;36mget_handle\u001b[1;34m(path_or_buf, mode, encoding, compression, memory_map, is_text, errors, storage_options)\u001b[0m\n\u001b[0;32m    784\u001b[0m         \u001b[1;32mif\u001b[0m \u001b[0mioargs\u001b[0m\u001b[1;33m.\u001b[0m\u001b[0mencoding\u001b[0m \u001b[1;32mand\u001b[0m \u001b[1;34m\"b\"\u001b[0m \u001b[1;32mnot\u001b[0m \u001b[1;32min\u001b[0m \u001b[0mioargs\u001b[0m\u001b[1;33m.\u001b[0m\u001b[0mmode\u001b[0m\u001b[1;33m:\u001b[0m\u001b[1;33m\u001b[0m\u001b[1;33m\u001b[0m\u001b[0m\n\u001b[0;32m    785\u001b[0m             \u001b[1;31m# Encoding\u001b[0m\u001b[1;33m\u001b[0m\u001b[1;33m\u001b[0m\u001b[0m\n\u001b[1;32m--> 786\u001b[1;33m             handle = open(\n\u001b[0m\u001b[0;32m    787\u001b[0m                 \u001b[0mhandle\u001b[0m\u001b[1;33m,\u001b[0m\u001b[1;33m\u001b[0m\u001b[1;33m\u001b[0m\u001b[0m\n\u001b[0;32m    788\u001b[0m                 \u001b[0mioargs\u001b[0m\u001b[1;33m.\u001b[0m\u001b[0mmode\u001b[0m\u001b[1;33m,\u001b[0m\u001b[1;33m\u001b[0m\u001b[1;33m\u001b[0m\u001b[0m\n",
      "\u001b[1;31mFileNotFoundError\u001b[0m: [Errno 2] No such file or directory: 'C:/Users/rahul/OneDrive/Desktop/Masters/2nd Sem/Elctronic nose research/DATALOG_with_Cleaning.csv'"
     ]
    }
   ],
   "source": [
    "en_data = pd.read_csv(\"C:/Users/rahul/OneDrive/Desktop/Masters/2nd Sem/Elctronic nose research/DATALOG_with_Cleaning.csv\")"
   ]
  },
  {
   "cell_type": "code",
   "execution_count": 47,
   "id": "7299e995-8326-475a-92fe-b35d47f99169",
   "metadata": {},
   "outputs": [
    {
     "data": {
      "text/html": [
       "<div>\n",
       "<style scoped>\n",
       "    .dataframe tbody tr th:only-of-type {\n",
       "        vertical-align: middle;\n",
       "    }\n",
       "\n",
       "    .dataframe tbody tr th {\n",
       "        vertical-align: top;\n",
       "    }\n",
       "\n",
       "    .dataframe thead th {\n",
       "        text-align: right;\n",
       "    }\n",
       "</style>\n",
       "<table border=\"1\" class=\"dataframe\">\n",
       "  <thead>\n",
       "    <tr style=\"text-align: right;\">\n",
       "      <th></th>\n",
       "      <th>ms</th>\n",
       "      <th>Ammonia (NH3)-Echema</th>\n",
       "      <th>Nitrogen Dioxide (NO2)</th>\n",
       "      <th>Ethylene</th>\n",
       "      <th>Carbon Monoxide (CO)</th>\n",
       "      <th>Alcohol- Acetone</th>\n",
       "      <th>Alcohol</th>\n",
       "      <th>Ammonia (NH3)- Ethanol</th>\n",
       "    </tr>\n",
       "  </thead>\n",
       "  <tbody>\n",
       "    <tr>\n",
       "      <th>0</th>\n",
       "      <td>6041</td>\n",
       "      <td>8158</td>\n",
       "      <td>10691</td>\n",
       "      <td>8290</td>\n",
       "      <td>8249</td>\n",
       "      <td>63722</td>\n",
       "      <td>21524</td>\n",
       "      <td>58079</td>\n",
       "    </tr>\n",
       "    <tr>\n",
       "      <th>2</th>\n",
       "      <td>16426</td>\n",
       "      <td>8100</td>\n",
       "      <td>11119</td>\n",
       "      <td>8285</td>\n",
       "      <td>8394</td>\n",
       "      <td>63837</td>\n",
       "      <td>19441</td>\n",
       "      <td>48745</td>\n",
       "    </tr>\n",
       "    <tr>\n",
       "      <th>3</th>\n",
       "      <td>21608</td>\n",
       "      <td>8111</td>\n",
       "      <td>11212</td>\n",
       "      <td>8281</td>\n",
       "      <td>8292</td>\n",
       "      <td>63339</td>\n",
       "      <td>18656</td>\n",
       "      <td>46051</td>\n",
       "    </tr>\n",
       "    <tr>\n",
       "      <th>4</th>\n",
       "      <td>26793</td>\n",
       "      <td>8064</td>\n",
       "      <td>11194</td>\n",
       "      <td>8273</td>\n",
       "      <td>8188</td>\n",
       "      <td>63541</td>\n",
       "      <td>18065</td>\n",
       "      <td>43900</td>\n",
       "    </tr>\n",
       "    <tr>\n",
       "      <th>5</th>\n",
       "      <td>31974</td>\n",
       "      <td>8097</td>\n",
       "      <td>11104</td>\n",
       "      <td>8272</td>\n",
       "      <td>8322</td>\n",
       "      <td>63620</td>\n",
       "      <td>17359</td>\n",
       "      <td>41860</td>\n",
       "    </tr>\n",
       "  </tbody>\n",
       "</table>\n",
       "</div>"
      ],
      "text/plain": [
       "      ms  Ammonia (NH3)-Echema  Nitrogen Dioxide (NO2)  Ethylene  \\\n",
       "0   6041                  8158                   10691      8290   \n",
       "2  16426                  8100                   11119      8285   \n",
       "3  21608                  8111                   11212      8281   \n",
       "4  26793                  8064                   11194      8273   \n",
       "5  31974                  8097                   11104      8272   \n",
       "\n",
       "   Carbon Monoxide (CO)  Alcohol- Acetone  Alcohol  Ammonia (NH3)- Ethanol  \n",
       "0                  8249             63722    21524                   58079  \n",
       "2                  8394             63837    19441                   48745  \n",
       "3                  8292             63339    18656                   46051  \n",
       "4                  8188             63541    18065                   43900  \n",
       "5                  8322             63620    17359                   41860  "
      ]
     },
     "execution_count": 47,
     "metadata": {},
     "output_type": "execute_result"
    }
   ],
   "source": [
    "\n",
    "en_baseline = en_data.drop(1)\n",
    "\n",
    "en_baseline.drop(en_baseline.columns[8:], axis=1, inplace=True)\n",
    "\n",
    "en_baseline.head()"
   ]
  },
  {
   "cell_type": "code",
   "execution_count": 48,
   "id": "7e5c3845-815f-4d4e-901c-d625ed640911",
   "metadata": {},
   "outputs": [
    {
     "data": {
      "text/plain": [
       "(2081, 8)"
      ]
     },
     "execution_count": 48,
     "metadata": {},
     "output_type": "execute_result"
    }
   ],
   "source": [
    "en_baseline.columns\n",
    "en_baseline.shape"
   ]
  },
  {
   "cell_type": "code",
   "execution_count": 49,
   "id": "f903fe9e-629f-4dbf-8f64-ed3fb16637f5",
   "metadata": {},
   "outputs": [
    {
     "data": {
      "text/html": [
       "<div>\n",
       "<style scoped>\n",
       "    .dataframe tbody tr th:only-of-type {\n",
       "        vertical-align: middle;\n",
       "    }\n",
       "\n",
       "    .dataframe tbody tr th {\n",
       "        vertical-align: top;\n",
       "    }\n",
       "\n",
       "    .dataframe thead th {\n",
       "        text-align: right;\n",
       "    }\n",
       "</style>\n",
       "<table border=\"1\" class=\"dataframe\">\n",
       "  <thead>\n",
       "    <tr style=\"text-align: right;\">\n",
       "      <th></th>\n",
       "      <th>ms</th>\n",
       "      <th>Ammonia (NH3)-Echema</th>\n",
       "      <th>Nitrogen Dioxide (NO2)</th>\n",
       "      <th>Ethylene</th>\n",
       "      <th>Carbon Monoxide (CO)</th>\n",
       "      <th>Alcohol- Acetone</th>\n",
       "      <th>Alcohol</th>\n",
       "      <th>Ammonia (NH3)- Ethanol</th>\n",
       "    </tr>\n",
       "  </thead>\n",
       "  <tbody>\n",
       "    <tr>\n",
       "      <th>count</th>\n",
       "      <td>2081.000000</td>\n",
       "      <td>2081.000000</td>\n",
       "      <td>2081.000000</td>\n",
       "      <td>2081.000000</td>\n",
       "      <td>2081.000000</td>\n",
       "      <td>2081.000000</td>\n",
       "      <td>2081.000000</td>\n",
       "      <td>2081.000000</td>\n",
       "    </tr>\n",
       "    <tr>\n",
       "      <th>mean</th>\n",
       "      <td>301163.930802</td>\n",
       "      <td>8138.704469</td>\n",
       "      <td>8863.879385</td>\n",
       "      <td>8280.982220</td>\n",
       "      <td>9154.267179</td>\n",
       "      <td>63655.312830</td>\n",
       "      <td>13939.919270</td>\n",
       "      <td>27156.983662</td>\n",
       "    </tr>\n",
       "    <tr>\n",
       "      <th>std</th>\n",
       "      <td>174422.701719</td>\n",
       "      <td>108.562210</td>\n",
       "      <td>579.832007</td>\n",
       "      <td>12.071389</td>\n",
       "      <td>747.042216</td>\n",
       "      <td>282.467685</td>\n",
       "      <td>2775.006943</td>\n",
       "      <td>10120.236938</td>\n",
       "    </tr>\n",
       "    <tr>\n",
       "      <th>min</th>\n",
       "      <td>4564.000000</td>\n",
       "      <td>7919.000000</td>\n",
       "      <td>7423.000000</td>\n",
       "      <td>8205.000000</td>\n",
       "      <td>7562.000000</td>\n",
       "      <td>62933.000000</td>\n",
       "      <td>10690.000000</td>\n",
       "      <td>17716.000000</td>\n",
       "    </tr>\n",
       "    <tr>\n",
       "      <th>25%</th>\n",
       "      <td>150493.000000</td>\n",
       "      <td>8041.000000</td>\n",
       "      <td>8477.000000</td>\n",
       "      <td>8275.000000</td>\n",
       "      <td>8465.000000</td>\n",
       "      <td>63457.000000</td>\n",
       "      <td>12179.000000</td>\n",
       "      <td>20964.000000</td>\n",
       "    </tr>\n",
       "    <tr>\n",
       "      <th>50%</th>\n",
       "      <td>296231.000000</td>\n",
       "      <td>8137.000000</td>\n",
       "      <td>8625.000000</td>\n",
       "      <td>8281.000000</td>\n",
       "      <td>9153.000000</td>\n",
       "      <td>63629.000000</td>\n",
       "      <td>13008.000000</td>\n",
       "      <td>23671.000000</td>\n",
       "    </tr>\n",
       "    <tr>\n",
       "      <th>75%</th>\n",
       "      <td>451831.000000</td>\n",
       "      <td>8228.000000</td>\n",
       "      <td>9074.000000</td>\n",
       "      <td>8287.000000</td>\n",
       "      <td>9726.000000</td>\n",
       "      <td>63835.000000</td>\n",
       "      <td>14499.000000</td>\n",
       "      <td>28393.000000</td>\n",
       "    </tr>\n",
       "    <tr>\n",
       "      <th>max</th>\n",
       "      <td>608384.000000</td>\n",
       "      <td>8388.000000</td>\n",
       "      <td>11212.000000</td>\n",
       "      <td>8359.000000</td>\n",
       "      <td>11181.000000</td>\n",
       "      <td>64461.000000</td>\n",
       "      <td>24777.000000</td>\n",
       "      <td>65535.000000</td>\n",
       "    </tr>\n",
       "  </tbody>\n",
       "</table>\n",
       "</div>"
      ],
      "text/plain": [
       "                  ms  Ammonia (NH3)-Echema  Nitrogen Dioxide (NO2)  \\\n",
       "count    2081.000000           2081.000000             2081.000000   \n",
       "mean   301163.930802           8138.704469             8863.879385   \n",
       "std    174422.701719            108.562210              579.832007   \n",
       "min      4564.000000           7919.000000             7423.000000   \n",
       "25%    150493.000000           8041.000000             8477.000000   \n",
       "50%    296231.000000           8137.000000             8625.000000   \n",
       "75%    451831.000000           8228.000000             9074.000000   \n",
       "max    608384.000000           8388.000000            11212.000000   \n",
       "\n",
       "          Ethylene  Carbon Monoxide (CO)  Alcohol- Acetone       Alcohol  \\\n",
       "count  2081.000000           2081.000000       2081.000000   2081.000000   \n",
       "mean   8280.982220           9154.267179      63655.312830  13939.919270   \n",
       "std      12.071389            747.042216        282.467685   2775.006943   \n",
       "min    8205.000000           7562.000000      62933.000000  10690.000000   \n",
       "25%    8275.000000           8465.000000      63457.000000  12179.000000   \n",
       "50%    8281.000000           9153.000000      63629.000000  13008.000000   \n",
       "75%    8287.000000           9726.000000      63835.000000  14499.000000   \n",
       "max    8359.000000          11181.000000      64461.000000  24777.000000   \n",
       "\n",
       "       Ammonia (NH3)- Ethanol  \n",
       "count             2081.000000  \n",
       "mean             27156.983662  \n",
       "std              10120.236938  \n",
       "min              17716.000000  \n",
       "25%              20964.000000  \n",
       "50%              23671.000000  \n",
       "75%              28393.000000  \n",
       "max              65535.000000  "
      ]
     },
     "execution_count": 49,
     "metadata": {},
     "output_type": "execute_result"
    }
   ],
   "source": [
    "en_baseline.describe()"
   ]
  },
  {
   "cell_type": "code",
   "execution_count": 41,
   "id": "cbe9475f-9403-438c-93d6-00aafc24245b",
   "metadata": {},
   "outputs": [
    {
     "data": {
      "text/plain": [
       "ms                        0\n",
       "Ammonia (NH3)-Echema      0\n",
       "Nitrogen Dioxide (NO2)    0\n",
       "Ethylene                  0\n",
       "Carbon Monoxide (CO)      0\n",
       "Alcohol- Acetone          0\n",
       "Alcohol                   0\n",
       "Ammonia (NH3)- Ethanol    0\n",
       "dtype: int64"
      ]
     },
     "execution_count": 41,
     "metadata": {},
     "output_type": "execute_result"
    }
   ],
   "source": [
    "en_baseline.isnull().sum()"
   ]
  },
  {
   "cell_type": "markdown",
   "id": "e5ddcbf2-cc81-4003-8a50-13cd61be1eb4",
   "metadata": {},
   "source": [
    "## LDA data model"
   ]
  },
  {
   "cell_type": "code",
   "execution_count": 42,
   "id": "09f63825-71f9-42cc-9178-0b15f9252f37",
   "metadata": {},
   "outputs": [],
   "source": [
    "import pandas as pd\n",
    "from sklearn.model_selection import train_test_split\n",
    "from sklearn.discriminant_analysis import LinearDiscriminantAnalysis"
   ]
  },
  {
   "cell_type": "markdown",
   "id": "78484993-2925-43c9-8067-a6de6066a282",
   "metadata": {},
   "source": [
    "### Spliting the data into training and testing set"
   ]
  },
  {
   "cell_type": "code",
   "execution_count": 43,
   "id": "856bc119-55de-4fc3-a6a2-1fe5af9ac1f5",
   "metadata": {},
   "outputs": [],
   "source": [
    "# Split the dataset into training and testing sets\n",
    "X = en_baseline.iloc[:, 1:]\n",
    "y = en_baseline.iloc[:, 0]\n",
    "X_train, X_test, y_train, y_test = train_test_split(X, y, test_size=0.2, random_state=42)"
   ]
  },
  {
   "cell_type": "code",
   "execution_count": 44,
   "id": "513ea2c0-2fe7-4bf7-abdf-ce1dbadf62e6",
   "metadata": {},
   "outputs": [
    {
     "data": {
      "text/plain": [
       "LinearDiscriminantAnalysis()"
      ]
     },
     "execution_count": 44,
     "metadata": {},
     "output_type": "execute_result"
    }
   ],
   "source": [
    "# Perform linear discriminant analysis on the training set\n",
    "lda = LinearDiscriminantAnalysis()\n",
    "lda.fit(X_train, y_train)"
   ]
  },
  {
   "cell_type": "code",
   "execution_count": 45,
   "id": "13033a03-48be-4343-ab96-e513e7e18106",
   "metadata": {},
   "outputs": [],
   "source": [
    "# Predict the labels of the testing set\n",
    "y_pred = lda.predict(X_test)"
   ]
  },
  {
   "cell_type": "code",
   "execution_count": 46,
   "id": "e57c1ec6-9ea8-4c13-aa0f-28215582a03c",
   "metadata": {},
   "outputs": [
    {
     "name": "stdout",
     "output_type": "stream",
     "text": [
      "Accuracy: 0.00%\n"
     ]
    }
   ],
   "source": [
    "# Evaluate the performance of the classifier\n",
    "accuracy = lda.score(X_test, y_test)\n",
    "print(\"Accuracy: {:.2f}%\".format(accuracy*100))"
   ]
  },
  {
   "cell_type": "code",
   "execution_count": null,
   "id": "148c1c1f-3f62-47d4-84cb-e7b9df88beba",
   "metadata": {},
   "outputs": [],
   "source": []
  }
 ],
 "metadata": {
  "kernelspec": {
   "display_name": "Python 3 (ipykernel)",
   "language": "python",
   "name": "python3"
  },
  "language_info": {
   "codemirror_mode": {
    "name": "ipython",
    "version": 3
   },
   "file_extension": ".py",
   "mimetype": "text/x-python",
   "name": "python",
   "nbconvert_exporter": "python",
   "pygments_lexer": "ipython3",
   "version": "3.9.13"
  }
 },
 "nbformat": 4,
 "nbformat_minor": 5
}
