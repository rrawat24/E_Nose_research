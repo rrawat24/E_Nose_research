{
 "cells": [
  {
   "cell_type": "code",
   "execution_count": 45,
   "id": "27a04c61-6cc6-480c-8c4a-9411b2e474b8",
   "metadata": {},
   "outputs": [],
   "source": [
    "import pandas as pd\n",
    "from sklearn.discriminant_analysis import LinearDiscriminantAnalysis\n",
    "from sklearn.model_selection import train_test_split\n",
    "from sklearn.metrics import accuracy_score\n",
    "\n"
   ]
  },
  {
   "cell_type": "code",
   "execution_count": 46,
   "id": "5568d455-abd7-4c80-bde5-c60d72b4207a",
   "metadata": {},
   "outputs": [
    {
     "data": {
      "text/html": [
       "<div>\n",
       "<style scoped>\n",
       "    .dataframe tbody tr th:only-of-type {\n",
       "        vertical-align: middle;\n",
       "    }\n",
       "\n",
       "    .dataframe tbody tr th {\n",
       "        vertical-align: top;\n",
       "    }\n",
       "\n",
       "    .dataframe thead th {\n",
       "        text-align: right;\n",
       "    }\n",
       "</style>\n",
       "<table border=\"1\" class=\"dataframe\">\n",
       "  <thead>\n",
       "    <tr style=\"text-align: right;\">\n",
       "      <th></th>\n",
       "      <th>Ammonia (NH3)-Echem</th>\n",
       "      <th>Nitrogen Dioxide (NO2)</th>\n",
       "      <th>Ethylene</th>\n",
       "      <th>Carbon Monoxide (CO)</th>\n",
       "      <th>Alcohol- Acetone</th>\n",
       "      <th>Alcohol</th>\n",
       "      <th>Ammonia (NH3)- Ethanol</th>\n",
       "      <th>Gas Type(ppm)</th>\n",
       "    </tr>\n",
       "  </thead>\n",
       "  <tbody>\n",
       "    <tr>\n",
       "      <th>0</th>\n",
       "      <td>8331</td>\n",
       "      <td>8278</td>\n",
       "      <td>8289</td>\n",
       "      <td>8253</td>\n",
       "      <td>63443</td>\n",
       "      <td>25731</td>\n",
       "      <td>64504</td>\n",
       "      <td>1</td>\n",
       "    </tr>\n",
       "    <tr>\n",
       "      <th>1</th>\n",
       "      <td>8373</td>\n",
       "      <td>8214</td>\n",
       "      <td>8276</td>\n",
       "      <td>8188</td>\n",
       "      <td>63524</td>\n",
       "      <td>27681</td>\n",
       "      <td>60254</td>\n",
       "      <td>1</td>\n",
       "    </tr>\n",
       "    <tr>\n",
       "      <th>2</th>\n",
       "      <td>8255</td>\n",
       "      <td>8126</td>\n",
       "      <td>8293</td>\n",
       "      <td>8388</td>\n",
       "      <td>63513</td>\n",
       "      <td>29028</td>\n",
       "      <td>61159</td>\n",
       "      <td>1</td>\n",
       "    </tr>\n",
       "    <tr>\n",
       "      <th>3</th>\n",
       "      <td>8314</td>\n",
       "      <td>7945</td>\n",
       "      <td>8267</td>\n",
       "      <td>8230</td>\n",
       "      <td>63601</td>\n",
       "      <td>29817</td>\n",
       "      <td>61726</td>\n",
       "      <td>1</td>\n",
       "    </tr>\n",
       "    <tr>\n",
       "      <th>4</th>\n",
       "      <td>8258</td>\n",
       "      <td>7773</td>\n",
       "      <td>8275</td>\n",
       "      <td>8378</td>\n",
       "      <td>63579</td>\n",
       "      <td>30233</td>\n",
       "      <td>61887</td>\n",
       "      <td>1</td>\n",
       "    </tr>\n",
       "  </tbody>\n",
       "</table>\n",
       "</div>"
      ],
      "text/plain": [
       "   Ammonia (NH3)-Echem  Nitrogen Dioxide (NO2)  Ethylene  \\\n",
       "0                 8331                    8278      8289   \n",
       "1                 8373                    8214      8276   \n",
       "2                 8255                    8126      8293   \n",
       "3                 8314                    7945      8267   \n",
       "4                 8258                    7773      8275   \n",
       "\n",
       "   Carbon Monoxide (CO)  Alcohol- Acetone  Alcohol  Ammonia (NH3)- Ethanol  \\\n",
       "0                  8253             63443    25731                   64504   \n",
       "1                  8188             63524    27681                   60254   \n",
       "2                  8388             63513    29028                   61159   \n",
       "3                  8230             63601    29817                   61726   \n",
       "4                  8378             63579    30233                   61887   \n",
       "\n",
       "   Gas Type(ppm)  \n",
       "0              1  \n",
       "1              1  \n",
       "2              1  \n",
       "3              1  \n",
       "4              1  "
      ]
     },
     "execution_count": 46,
     "metadata": {},
     "output_type": "execute_result"
    }
   ],
   "source": [
    "# Load the sensor data into a pandas DataFrame\n",
    "data = pd.read_excel(\"DATALOG with cleaning.xlsx\", sheet_name=\"Combined_gases\")\n",
    "\n",
    "data=data.drop(columns=['ms'], axis=1)\n",
    "data.head()"
   ]
  },
  {
   "cell_type": "markdown",
   "id": "83ef044a-1792-48d1-b5b1-8c4202415047",
   "metadata": {},
   "source": [
    "### Extract the readings for Ethanol 200ppm into a separate DataFrame\n",
    "ethanol_data = data[['Ethanol']][data['Ethanol_concentration'] == 200]"
   ]
  },
  {
   "cell_type": "code",
   "execution_count": 47,
   "id": "7e4687bc-976b-4059-853c-7fdb4f99de8b",
   "metadata": {},
   "outputs": [],
   "source": [
    "# Split the data into input features (X) and target variable (y)\n",
    "X = data.drop(columns=['Gas Type(ppm)'])\n",
    "y = data['Gas Type(ppm)']"
   ]
  },
  {
   "cell_type": "code",
   "execution_count": 51,
   "id": "747ac442-9272-4abd-84f9-ad8dd8812d17",
   "metadata": {},
   "outputs": [
    {
     "name": "stdout",
     "output_type": "stream",
     "text": [
      "Accuracy: 0.52\n",
      "Precision: 0.53\n",
      "Recall: 0.52\n",
      "F1-score: 0.49\n"
     ]
    },
    {
     "name": "stderr",
     "output_type": "stream",
     "text": [
      "C:\\Users\\rahul\\anaconda3\\lib\\site-packages\\sklearn\\linear_model\\_logistic.py:814: ConvergenceWarning: lbfgs failed to converge (status=1):\n",
      "STOP: TOTAL NO. of ITERATIONS REACHED LIMIT.\n",
      "\n",
      "Increase the number of iterations (max_iter) or scale the data as shown in:\n",
      "    https://scikit-learn.org/stable/modules/preprocessing.html\n",
      "Please also refer to the documentation for alternative solver options:\n",
      "    https://scikit-learn.org/stable/modules/linear_model.html#logistic-regression\n",
      "  n_iter_i = _check_optimize_result(\n"
     ]
    }
   ],
   "source": [
    "from sklearn.linear_model import LogisticRegression\n",
    "from sklearn.metrics import precision_score\n",
    "from sklearn.metrics import recall_score\n",
    "from sklearn.metrics import f1_score\n",
    "\n",
    "\n",
    "# Split the data into training and testing sets\n",
    "X_train, X_test, y_train, y_test = train_test_split(X, y, test_size=0.2, random_state=42)\n",
    "\n",
    "# Create a logistic regression model\n",
    "lr = LogisticRegression()\n",
    "\n",
    "# Fit the model to the training data\n",
    "lr.fit(X_train, y_train)\n",
    "\n",
    "# Use the model to make predictions on the testing data\n",
    "y_pred = lr.predict(X_test)\n",
    "\n",
    "# Evaluate the performance of the model\n",
    "accuracy = accuracy_score(y_test, y_pred)\n",
    "precision = precision_score(y_test, y_pred, average='weighted')\n",
    "recall = recall_score(y_test, y_pred, average='weighted')\n",
    "f1 = f1_score(y_test, y_pred, average='weighted')\n",
    "\n",
    "print(\"Accuracy: {:.2f}\".format(accuracy))\n",
    "print(\"Precision: {:.2f}\".format(precision))\n",
    "print(\"Recall: {:.2f}\".format(recall))\n",
    "print(\"F1-score: {:.2f}\".format(f1))"
   ]
  },
  {
   "cell_type": "code",
   "execution_count": null,
   "id": "dcf2ef35-3229-424b-b113-fb0a384dd9f8",
   "metadata": {},
   "outputs": [],
   "source": []
  }
 ],
 "metadata": {
  "kernelspec": {
   "display_name": "Python 3 (ipykernel)",
   "language": "python",
   "name": "python3"
  },
  "language_info": {
   "codemirror_mode": {
    "name": "ipython",
    "version": 3
   },
   "file_extension": ".py",
   "mimetype": "text/x-python",
   "name": "python",
   "nbconvert_exporter": "python",
   "pygments_lexer": "ipython3",
   "version": "3.9.13"
  }
 },
 "nbformat": 4,
 "nbformat_minor": 5
}
